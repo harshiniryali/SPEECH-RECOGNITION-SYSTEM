{
 "cells": [
  {
   "cell_type": "code",
   "execution_count": 1,
   "id": "1726be24-7b2e-4d3a-b70b-c039317df3be",
   "metadata": {},
   "outputs": [
    {
     "name": "stdout",
     "output_type": "stream",
     "text": [
      "Requirement already satisfied: SpeechRecognition in c:\\users\\harsh\\anaconda3\\lib\\site-packages (3.14.3)\n",
      "Requirement already satisfied: typing-extensions in c:\\users\\harsh\\anaconda3\\lib\\site-packages (from SpeechRecognition) (4.11.0)\n",
      "Note: you may need to restart the kernel to use updated packages.\n"
     ]
    },
    {
     "name": "stderr",
     "output_type": "stream",
     "text": [
      "WARNING: Ignoring invalid distribution ~ympy (C:\\Users\\harsh\\anaconda3\\Lib\\site-packages)\n",
      "WARNING: Ignoring invalid distribution ~ympy (C:\\Users\\harsh\\anaconda3\\Lib\\site-packages)\n",
      "WARNING: Ignoring invalid distribution ~ympy (C:\\Users\\harsh\\anaconda3\\Lib\\site-packages)\n"
     ]
    }
   ],
   "source": [
    "%pip install SpeechRecognition"
   ]
  },
  {
   "cell_type": "code",
   "execution_count": 3,
   "id": "bacaa64e-88c3-43d2-bca5-e5be031a3bc4",
   "metadata": {},
   "outputs": [
    {
     "name": "stdout",
     "output_type": "stream",
     "text": [
      "Requirement already satisfied: pyttsx3 in c:\\users\\harsh\\anaconda3\\lib\\site-packages (2.98)\n",
      "Requirement already satisfied: comtypes in c:\\users\\harsh\\anaconda3\\lib\\site-packages (from pyttsx3) (1.4.11)\n",
      "Requirement already satisfied: pypiwin32 in c:\\users\\harsh\\anaconda3\\lib\\site-packages (from pyttsx3) (223)\n",
      "Requirement already satisfied: pywin32 in c:\\users\\harsh\\anaconda3\\lib\\site-packages (from pyttsx3) (305.1)\n",
      "Note: you may need to restart the kernel to use updated packages.\n"
     ]
    },
    {
     "name": "stderr",
     "output_type": "stream",
     "text": [
      "WARNING: Ignoring invalid distribution ~ympy (C:\\Users\\harsh\\anaconda3\\Lib\\site-packages)\n",
      "WARNING: Ignoring invalid distribution ~ympy (C:\\Users\\harsh\\anaconda3\\Lib\\site-packages)\n",
      "WARNING: Ignoring invalid distribution ~ympy (C:\\Users\\harsh\\anaconda3\\Lib\\site-packages)\n"
     ]
    }
   ],
   "source": [
    "%pip install pyttsx3"
   ]
  },
  {
   "cell_type": "code",
   "execution_count": 5,
   "id": "f31ac944-aabd-441d-bc98-34e72c0f73b0",
   "metadata": {},
   "outputs": [],
   "source": [
    "import speech_recognition as sr\n",
    "import pyttsx3"
   ]
  },
  {
   "cell_type": "code",
   "execution_count": 35,
   "id": "a34780a5-d896-4180-aa69-deeac1da7b68",
   "metadata": {},
   "outputs": [],
   "source": [
    "r = sr.Recognizer()\n",
    "def SpeakText(command):\n",
    "    engine = pyttsx3.init()\n",
    "    engine.say(command)\n",
    "    engine.runAndWait()"
   ]
  },
  {
   "cell_type": "code",
   "execution_count": 21,
   "id": "925d4026-b746-43f1-9d14-0b5ed0b3de86",
   "metadata": {},
   "outputs": [
    {
     "name": "stdout",
     "output_type": "stream",
     "text": [
      "Silence please, calibrating background noise\n",
      "Calibrated, now speak...\n",
      "the stale smell of old beer lingers it takes heat to bring out the order a cold debt restores health and just a salt pickle taste fine with hand tattoos help pastor are my favourite possessed full food is the hot cross bun\n"
     ]
    }
   ],
   "source": [
    "with sr.Microphone() as source2:\n",
    "    print(\"Silence please, calibrating background noise\")\n",
    "    r.adjust_for_ambient_noise(source2, duration = 2)\n",
    "    print(\"Calibrated, now speak...\")\n",
    "    audio2 = r.listen(source2)\n",
    "    MyText = r.recognize_google(audio2)\n",
    "    MyText = MyText.lower()\n",
    "    print(MyText)\n",
    "    SpeakText(MyText)"
   ]
  },
  {
   "cell_type": "code",
   "execution_count": 17,
   "id": "0c46fc32-9be8-453d-a91e-95e069c15b66",
   "metadata": {},
   "outputs": [
    {
     "name": "stdout",
     "output_type": "stream",
     "text": [
      "Requirement already satisfied: PyAudio in c:\\users\\harsh\\anaconda3\\lib\\site-packages (0.2.14)\n",
      "Note: you may need to restart the kernel to use updated packages.\n"
     ]
    },
    {
     "name": "stderr",
     "output_type": "stream",
     "text": [
      "WARNING: Ignoring invalid distribution ~ympy (C:\\Users\\harsh\\anaconda3\\Lib\\site-packages)\n",
      "WARNING: Ignoring invalid distribution ~ympy (C:\\Users\\harsh\\anaconda3\\Lib\\site-packages)\n",
      "WARNING: Ignoring invalid distribution ~ympy (C:\\Users\\harsh\\anaconda3\\Lib\\site-packages)\n"
     ]
    }
   ],
   "source": [
    "%pip install PyAudio"
   ]
  },
  {
   "cell_type": "code",
   "execution_count": 23,
   "id": "482a54b6-d5bb-4e19-a9e9-4c8fe15c226b",
   "metadata": {},
   "outputs": [],
   "source": [
    "import speech_recognition as sr\n",
    "import webbrowser as web"
   ]
  },
  {
   "cell_type": "code",
   "execution_count": 25,
   "id": "a07900ae-8aa9-418f-80d2-9f1466cc8a66",
   "metadata": {},
   "outputs": [
    {
     "name": "stderr",
     "output_type": "stream",
     "text": [
      "<>:2: SyntaxWarning: invalid escape sequence '\\P'\n",
      "<>:2: SyntaxWarning: invalid escape sequence '\\P'\n",
      "C:\\Users\\harsh\\AppData\\Local\\Temp\\ipykernel_15600\\3537763362.py:2: SyntaxWarning: invalid escape sequence '\\P'\n",
      "  path = \"C:\\Program Files (x86)\\Microsoft\\Edge\\Application\\msedge.exe\"\n"
     ]
    },
    {
     "name": "stdout",
     "output_type": "stream",
     "text": [
      "Please say something\n",
      "Recognizing now...\n",
      "touch typing is a technique of placing hands on the keyboard such that finger has its own area on the keyboard and you type without looking at the\n"
     ]
    }
   ],
   "source": [
    "if __name__ == \"__main__\":\n",
    "    path = \"C:\\Program Files (x86)\\Microsoft\\Edge\\Application\\msedge.exe\"\n",
    "    r = sr.Recognizer()\n",
    "    with sr.Microphone() as source:\n",
    "        r.adjust_for_ambient_noise(source)\n",
    "        print(\"Please say something\")\n",
    "        audio = r.listen(source)\n",
    "        print(\"Recognizing now...\")\n",
    "        try:\n",
    "            dest = r.recognize_google(audio)\n",
    "            print(dest)\n",
    "            web.get(path).open(dest)\n",
    "        except Exception as e:\n",
    "            print(\"Error: \"+str(e))"
   ]
  },
  {
   "cell_type": "code",
   "execution_count": 27,
   "id": "eaa498a6-0127-4c20-a465-231a00c8750c",
   "metadata": {},
   "outputs": [],
   "source": [
    "import random\n",
    "import time\n",
    "import speech_recognition as sr"
   ]
  },
  {
   "cell_type": "code",
   "execution_count": 29,
   "id": "4efe4f85-9a6d-4201-acc4-b8fdc2991edb",
   "metadata": {},
   "outputs": [],
   "source": [
    "def recognize_speech_from_mic(recognizer, microphone):\n",
    "    \"\"\"Transcribe speech from recorded from 'microphone'.\n",
    "    Returns a dictionary with three keys:\n",
    "    \"success\" : a boolean indicating whether or not the API request was successful\n",
    "    \"error\" : 'None' if no error occured, otherwise a string containing an error message if the API could not be reached or speech was unrecognizable\n",
    "    \"transcription\" : 'None' if speech could not be transcribed, otherwise a string containing the transcribed text\n",
    "    \"\"\"\n",
    "\n",
    "    #Check if recognizer and microphone arguments are appropriate type\n",
    "    if not isinstance(recognizer, sr.Recognizer):\n",
    "        raise TypeError(\"`recognizer` must be `Recognizer` instance\")\n",
    "    if not isinstance(microphone, sr.Microphone):\n",
    "        raise TypeError(\"`microphone` must be `Microphone` instance\")\n",
    "\n",
    "    #Adjust the recognizer sensitivity to ambient noise and record audio from the microphone\n",
    "    with microphone as source:\n",
    "        recognizer.adjust_for_ambient_noise(source)\n",
    "        audio = recognizer.listen(source)\n",
    "\n",
    "    #Setup the response object\n",
    "    response = {\n",
    "        \"success\":True,\n",
    "        \"error\":None,\n",
    "        \"transcription\":None\n",
    "    }\n",
    "\n",
    "    #Try recognizing speech in recording, if any error is caught, update response object accordingly\n",
    "    try:\n",
    "        response[\"transcription\"] = recognizer.recognize_google(audio)\n",
    "    except sr.RequestError:\n",
    "        #API was unreachable or unresponsive\n",
    "        response[\"success\"] = False\n",
    "        response[\"error\"] = \"API unavailable\"\n",
    "    except sr.UnknownValueError:\n",
    "        response[\"error\"] = \"Unable to recognize speech\"\n",
    "    return response"
   ]
  },
  {
   "cell_type": "code",
   "execution_count": 33,
   "id": "9324b0f8-a349-4f5b-88fd-f7c190b16831",
   "metadata": {},
   "outputs": [
    {
     "name": "stdout",
     "output_type": "stream",
     "text": [
      "I'm thinking of one of these words:\n",
      "apple, banana, grape, orange, mango, lemon, kiwi, watermelon, strawberry\n",
      "You have 3 tries to guess which one.\n",
      "\n",
      "Guess 1. Speak|\n",
      "You said: lemon\n",
      "Incorrect. Try again.\n",
      "\n",
      "Guess 2. Speak|\n",
      "You said: watermelon\n",
      "Incorrect. Try again.\n",
      "\n",
      "Guess 3. Speak|\n",
      "You said: banana\n",
      "Sorry, you lose!\n",
      "I was thinking of 'mango'.\n"
     ]
    }
   ],
   "source": [
    "if __name__ == \"__main__\":\n",
    "    #Set list of words, max number of guesses, and prompt limit\n",
    "    WORDS = [\"apple\",\"banana\",\"grape\",\"orange\",\"mango\",\"lemon\",\"kiwi\",\"watermelon\",\"strawberry\"]\n",
    "    NUM_GUESSES = 3\n",
    "    PROMPT_LIMIT = 5\n",
    "\n",
    "    #Create recognizer and mic instances\n",
    "    recognizer = sr.Recognizer()\n",
    "    microphone = sr.Microphone()\n",
    "\n",
    "    #Get a random word from list\n",
    "    word = random.choice(WORDS)\n",
    "    instructions = (\n",
    "        \"I'm thinking of one of these words:\\n\"\n",
    "        \"{words}\\n\"\n",
    "        \"You have {n} tries to guess which one.\\n\"\n",
    "    ).format(words=', '.join(WORDS), n=NUM_GUESSES)\n",
    "\n",
    "    #Show instructions and wait for 3 seconds before starting the game\n",
    "    print(instructions)\n",
    "    time.sleep(3)\n",
    "\n",
    "    for i in range(NUM_GUESSES):\n",
    "        #Get the guess from user\n",
    "        #If transcription is returned, break out of the loop and continue\n",
    "        #If no transcription is returned and API request is failed, break loop and continue\n",
    "        #If API request succeeded but no transcription was returned, re-prompt the user to say their guess again until PROMPT_LIMIT expires\n",
    "        for j in range(PROMPT_LIMIT):\n",
    "            print('Guess {}. Speak|'.format(i+1))\n",
    "            guess = recognize_speech_from_mic(recognizer, microphone)\n",
    "            if guess[\"transcription\"]:\n",
    "                break\n",
    "            if not guess[\"success\"]:\n",
    "                break\n",
    "            print(\"I didn't catch that. What did you say?\\n\")\n",
    "\n",
    "        #If there was an error, stop the game\n",
    "        if guess[\"error\"]:\n",
    "            print(\"ERROR: {}\".format(guess[\"error\"]))\n",
    "            break\n",
    "            \n",
    "        #Show user the transcription\n",
    "        print(\"You said: {}\".format(guess[\"transcription\"]))\n",
    "\n",
    "        guess_is_correct = guess[\"transcription\"].lower() == word.lower()\n",
    "        user_has_more_attempts = i<NUM_GUESSES-1\n",
    "\n",
    "        if guess_is_correct:\n",
    "            print(\"Correct! You win!\".format(word))\n",
    "            break\n",
    "        elif user_has_more_attempts:\n",
    "            print(\"Incorrect. Try again.\\n\")\n",
    "        else:\n",
    "            print(\"Sorry, you lose!\\nI was thinking of '{}'.\".format(word))\n",
    "            break"
   ]
  },
  {
   "cell_type": "code",
   "execution_count": null,
   "id": "ba4f67f3-b125-46be-9268-f8c02f023598",
   "metadata": {},
   "outputs": [],
   "source": []
  }
 ],
 "metadata": {
  "kernelspec": {
   "display_name": "Python [conda env:base] *",
   "language": "python",
   "name": "conda-base-py"
  },
  "language_info": {
   "codemirror_mode": {
    "name": "ipython",
    "version": 3
   },
   "file_extension": ".py",
   "mimetype": "text/x-python",
   "name": "python",
   "nbconvert_exporter": "python",
   "pygments_lexer": "ipython3",
   "version": "3.12.7"
  }
 },
 "nbformat": 4,
 "nbformat_minor": 5
}
